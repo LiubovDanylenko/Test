{
 "cells": [
  {
   "cell_type": "code",
   "execution_count": 67,
   "metadata": {},
   "outputs": [
    {
     "name": "stdout",
     "output_type": "stream",
     "text": [
      "<class 'pandas.core.frame.DataFrame'>\n",
      "RangeIndex: 5600 entries, 0 to 5599\n",
      "Data columns (total 18 columns):\n",
      "Index       5600 non-null int64\n",
      "Target      5600 non-null int64\n",
      "Type        5600 non-null object\n",
      "Alcohol     5600 non-null float64\n",
      "Density     5600 non-null float64\n",
      "Nitrogen    5600 non-null float64\n",
      "pH          5600 non-null float64\n",
      "Sugar       5600 non-null float64\n",
      "A           5567 non-null float64\n",
      "B           5600 non-null float64\n",
      "C           5600 non-null float64\n",
      "D           5600 non-null float64\n",
      "Di          5600 non-null float64\n",
      "E           5600 non-null float64\n",
      "H           5584 non-null float64\n",
      "S           5600 non-null float64\n",
      "U           5600 non-null float64\n",
      "V           5600 non-null float64\n",
      "dtypes: float64(15), int64(2), object(1)\n",
      "memory usage: 787.6+ KB\n"
     ]
    }
   ],
   "source": [
    "import numpy as np\n",
    "import pandas as pd\n",
    "import matplotlib.pyplot as plt\n",
    "import seaborn as sns\n",
    "from pandas import read_csv as read\n",
    "from pandas import DataFrame\n",
    "from sklearn import datasets, linear_model\n",
    "from sklearn.model_selection import train_test_split\n",
    "from sklearn.metrics import accuracy_score\n",
    "from sklearn.preprocessing import StandardScaler\n",
    "from imblearn.over_sampling import SMOTE\n",
    "data = read(\"C:/Users/danil/Downloads/WINE.csv\", delimiter=\",\")\n",
    "test=read(\"C:/Users/danil/Downloads/TEST.csv\", delimiter=\",\")\n",
    "data.info()"
   ]
  },
  {
   "cell_type": "code",
   "execution_count": 68,
   "metadata": {},
   "outputs": [
    {
     "name": "stdout",
     "output_type": "stream",
     "text": [
      "<class 'pandas.core.frame.DataFrame'>\n",
      "RangeIndex: 5600 entries, 0 to 5599\n",
      "Data columns (total 18 columns):\n",
      "Index       5600 non-null int64\n",
      "Target      5600 non-null int64\n",
      "Type        5600 non-null int64\n",
      "Alcohol     5600 non-null float64\n",
      "Density     5600 non-null float64\n",
      "Nitrogen    5600 non-null float64\n",
      "pH          5600 non-null float64\n",
      "Sugar       5600 non-null float64\n",
      "A           5600 non-null float64\n",
      "B           5600 non-null float64\n",
      "C           5600 non-null float64\n",
      "D           5600 non-null float64\n",
      "Di          5600 non-null float64\n",
      "E           5600 non-null float64\n",
      "H           5600 non-null float64\n",
      "S           5600 non-null float64\n",
      "U           5600 non-null float64\n",
      "V           5600 non-null float64\n",
      "dtypes: float64(15), int64(3)\n",
      "memory usage: 787.6 KB\n"
     ]
    }
   ],
   "source": [
    "#Можно увидеть, что в стобцах A, H содержаться пустые значения, необходимо избавиться от них. Заполним пустые значения срадним значением для каждого из столбца.\n",
    "mean = data['A'].mean()\n",
    "data['A'].fillna(mean, inplace=True)\n",
    "mean = data['H'].mean()\n",
    "data['H'].fillna(mean, inplace=True)\n",
    "#В столбце Type находятся переменные с типом данных Object. При просмотре выборки можно увидеть, что переменные в данном столбце могут принмать только два значения: red_wine и white_wine.  Так как обучение модели при наличии категориальных значений невозможно, то необходимо их закодировать.  \n",
    "dct= {'white_wine':1, 'red_wine':2}\n",
    "data['Type']=data['Type'].map(dct)\n",
    "test['Type']=test['Type'].map(dct)\n",
    "data.info()\n",
    "#Из данной таблицы можно увижеть, что все пустые значения были заполнены, а так же переменные типа Object были переконвертированны в тип данных int64, что дает возмонжость обучать модель по данной выборке."
   ]
  },
  {
   "cell_type": "code",
   "execution_count": 69,
   "metadata": {},
   "outputs": [
    {
     "data": {
      "text/html": [
       "<div>\n",
       "<style scoped>\n",
       "    .dataframe tbody tr th:only-of-type {\n",
       "        vertical-align: middle;\n",
       "    }\n",
       "\n",
       "    .dataframe tbody tr th {\n",
       "        vertical-align: top;\n",
       "    }\n",
       "\n",
       "    .dataframe thead th {\n",
       "        text-align: right;\n",
       "    }\n",
       "</style>\n",
       "<table border=\"1\" class=\"dataframe\">\n",
       "  <thead>\n",
       "    <tr style=\"text-align: right;\">\n",
       "      <th></th>\n",
       "      <th>count</th>\n",
       "      <th>mean</th>\n",
       "      <th>std</th>\n",
       "      <th>min</th>\n",
       "      <th>25%</th>\n",
       "      <th>50%</th>\n",
       "      <th>75%</th>\n",
       "      <th>max</th>\n",
       "    </tr>\n",
       "  </thead>\n",
       "  <tbody>\n",
       "    <tr>\n",
       "      <th>Index</th>\n",
       "      <td>5600.0</td>\n",
       "      <td>2799.500000</td>\n",
       "      <td>1616.725085</td>\n",
       "      <td>0.00</td>\n",
       "      <td>1399.75</td>\n",
       "      <td>2799.500</td>\n",
       "      <td>4199.25</td>\n",
       "      <td>5599.00</td>\n",
       "    </tr>\n",
       "    <tr>\n",
       "      <th>Target</th>\n",
       "      <td>5600.0</td>\n",
       "      <td>3.812143</td>\n",
       "      <td>0.864077</td>\n",
       "      <td>1.00</td>\n",
       "      <td>3.00</td>\n",
       "      <td>4.000</td>\n",
       "      <td>4.00</td>\n",
       "      <td>6.00</td>\n",
       "    </tr>\n",
       "    <tr>\n",
       "      <th>Type</th>\n",
       "      <td>5600.0</td>\n",
       "      <td>1.245000</td>\n",
       "      <td>0.430126</td>\n",
       "      <td>1.00</td>\n",
       "      <td>1.00</td>\n",
       "      <td>1.000</td>\n",
       "      <td>1.00</td>\n",
       "      <td>2.00</td>\n",
       "    </tr>\n",
       "    <tr>\n",
       "      <th>Alcohol</th>\n",
       "      <td>5600.0</td>\n",
       "      <td>8.337791</td>\n",
       "      <td>0.591844</td>\n",
       "      <td>7.10</td>\n",
       "      <td>7.85</td>\n",
       "      <td>8.250</td>\n",
       "      <td>8.75</td>\n",
       "      <td>10.55</td>\n",
       "    </tr>\n",
       "    <tr>\n",
       "      <th>Density</th>\n",
       "      <td>5600.0</td>\n",
       "      <td>1.039718</td>\n",
       "      <td>0.457331</td>\n",
       "      <td>1.01</td>\n",
       "      <td>1.01</td>\n",
       "      <td>1.020</td>\n",
       "      <td>1.02</td>\n",
       "      <td>10.21</td>\n",
       "    </tr>\n",
       "    <tr>\n",
       "      <th>Nitrogen</th>\n",
       "      <td>5600.0</td>\n",
       "      <td>5.250179</td>\n",
       "      <td>3.698764</td>\n",
       "      <td>0.00</td>\n",
       "      <td>2.74</td>\n",
       "      <td>4.450</td>\n",
       "      <td>6.86</td>\n",
       "      <td>30.72</td>\n",
       "    </tr>\n",
       "    <tr>\n",
       "      <th>pH</th>\n",
       "      <td>5600.0</td>\n",
       "      <td>3.427979</td>\n",
       "      <td>0.165377</td>\n",
       "      <td>2.91</td>\n",
       "      <td>3.32</td>\n",
       "      <td>3.420</td>\n",
       "      <td>3.53</td>\n",
       "      <td>4.24</td>\n",
       "    </tr>\n",
       "    <tr>\n",
       "      <th>Sugar</th>\n",
       "      <td>5600.0</td>\n",
       "      <td>5.598030</td>\n",
       "      <td>4.541530</td>\n",
       "      <td>0.97</td>\n",
       "      <td>2.11</td>\n",
       "      <td>3.250</td>\n",
       "      <td>8.19</td>\n",
       "      <td>62.91</td>\n",
       "    </tr>\n",
       "    <tr>\n",
       "      <th>A</th>\n",
       "      <td>5600.0</td>\n",
       "      <td>24.539752</td>\n",
       "      <td>2.565825</td>\n",
       "      <td>17.70</td>\n",
       "      <td>22.90</td>\n",
       "      <td>24.100</td>\n",
       "      <td>25.50</td>\n",
       "      <td>41.90</td>\n",
       "    </tr>\n",
       "    <tr>\n",
       "      <th>B</th>\n",
       "      <td>5600.0</td>\n",
       "      <td>3.421563</td>\n",
       "      <td>2.155710</td>\n",
       "      <td>0.00</td>\n",
       "      <td>1.98</td>\n",
       "      <td>2.770</td>\n",
       "      <td>4.22</td>\n",
       "      <td>16.50</td>\n",
       "    </tr>\n",
       "    <tr>\n",
       "      <th>C</th>\n",
       "      <td>5600.0</td>\n",
       "      <td>4.776455</td>\n",
       "      <td>2.170485</td>\n",
       "      <td>0.00</td>\n",
       "      <td>3.75</td>\n",
       "      <td>4.650</td>\n",
       "      <td>5.85</td>\n",
       "      <td>24.90</td>\n",
       "    </tr>\n",
       "    <tr>\n",
       "      <th>D</th>\n",
       "      <td>5600.0</td>\n",
       "      <td>32.608714</td>\n",
       "      <td>19.532201</td>\n",
       "      <td>0.00</td>\n",
       "      <td>17.60</td>\n",
       "      <td>30.800</td>\n",
       "      <td>45.10</td>\n",
       "      <td>316.80</td>\n",
       "    </tr>\n",
       "    <tr>\n",
       "      <th>Di</th>\n",
       "      <td>5600.0</td>\n",
       "      <td>43.709220</td>\n",
       "      <td>20.156748</td>\n",
       "      <td>0.00</td>\n",
       "      <td>28.78</td>\n",
       "      <td>41.695</td>\n",
       "      <td>56.12</td>\n",
       "      <td>318.22</td>\n",
       "    </tr>\n",
       "    <tr>\n",
       "      <th>E</th>\n",
       "      <td>5600.0</td>\n",
       "      <td>1.366580</td>\n",
       "      <td>0.349658</td>\n",
       "      <td>0.00</td>\n",
       "      <td>1.13</td>\n",
       "      <td>1.360</td>\n",
       "      <td>1.60</td>\n",
       "      <td>2.60</td>\n",
       "    </tr>\n",
       "    <tr>\n",
       "      <th>H</th>\n",
       "      <td>5600.0</td>\n",
       "      <td>2.909697</td>\n",
       "      <td>2.118601</td>\n",
       "      <td>0.00</td>\n",
       "      <td>1.80</td>\n",
       "      <td>2.360</td>\n",
       "      <td>3.47</td>\n",
       "      <td>37.26</td>\n",
       "    </tr>\n",
       "    <tr>\n",
       "      <th>S</th>\n",
       "      <td>5600.0</td>\n",
       "      <td>4.544402</td>\n",
       "      <td>2.174807</td>\n",
       "      <td>0.00</td>\n",
       "      <td>3.07</td>\n",
       "      <td>4.230</td>\n",
       "      <td>5.55</td>\n",
       "      <td>25.99</td>\n",
       "    </tr>\n",
       "    <tr>\n",
       "      <th>U</th>\n",
       "      <td>5600.0</td>\n",
       "      <td>5.516623</td>\n",
       "      <td>2.820828</td>\n",
       "      <td>0.00</td>\n",
       "      <td>3.65</td>\n",
       "      <td>5.650</td>\n",
       "      <td>7.50</td>\n",
       "      <td>21.70</td>\n",
       "    </tr>\n",
       "    <tr>\n",
       "      <th>V</th>\n",
       "      <td>5600.0</td>\n",
       "      <td>0.145773</td>\n",
       "      <td>0.094536</td>\n",
       "      <td>0.00</td>\n",
       "      <td>0.07</td>\n",
       "      <td>0.140</td>\n",
       "      <td>0.21</td>\n",
       "      <td>0.52</td>\n",
       "    </tr>\n",
       "  </tbody>\n",
       "</table>\n",
       "</div>"
      ],
      "text/plain": [
       "           count         mean          std    min      25%       50%      75%  \\\n",
       "Index     5600.0  2799.500000  1616.725085   0.00  1399.75  2799.500  4199.25   \n",
       "Target    5600.0     3.812143     0.864077   1.00     3.00     4.000     4.00   \n",
       "Type      5600.0     1.245000     0.430126   1.00     1.00     1.000     1.00   \n",
       "Alcohol   5600.0     8.337791     0.591844   7.10     7.85     8.250     8.75   \n",
       "Density   5600.0     1.039718     0.457331   1.01     1.01     1.020     1.02   \n",
       "Nitrogen  5600.0     5.250179     3.698764   0.00     2.74     4.450     6.86   \n",
       "pH        5600.0     3.427979     0.165377   2.91     3.32     3.420     3.53   \n",
       "Sugar     5600.0     5.598030     4.541530   0.97     2.11     3.250     8.19   \n",
       "A         5600.0    24.539752     2.565825  17.70    22.90    24.100    25.50   \n",
       "B         5600.0     3.421563     2.155710   0.00     1.98     2.770     4.22   \n",
       "C         5600.0     4.776455     2.170485   0.00     3.75     4.650     5.85   \n",
       "D         5600.0    32.608714    19.532201   0.00    17.60    30.800    45.10   \n",
       "Di        5600.0    43.709220    20.156748   0.00    28.78    41.695    56.12   \n",
       "E         5600.0     1.366580     0.349658   0.00     1.13     1.360     1.60   \n",
       "H         5600.0     2.909697     2.118601   0.00     1.80     2.360     3.47   \n",
       "S         5600.0     4.544402     2.174807   0.00     3.07     4.230     5.55   \n",
       "U         5600.0     5.516623     2.820828   0.00     3.65     5.650     7.50   \n",
       "V         5600.0     0.145773     0.094536   0.00     0.07     0.140     0.21   \n",
       "\n",
       "              max  \n",
       "Index     5599.00  \n",
       "Target       6.00  \n",
       "Type         2.00  \n",
       "Alcohol     10.55  \n",
       "Density     10.21  \n",
       "Nitrogen    30.72  \n",
       "pH           4.24  \n",
       "Sugar       62.91  \n",
       "A           41.90  \n",
       "B           16.50  \n",
       "C           24.90  \n",
       "D          316.80  \n",
       "Di         318.22  \n",
       "E            2.60  \n",
       "H           37.26  \n",
       "S           25.99  \n",
       "U           21.70  \n",
       "V            0.52  "
      ]
     },
     "execution_count": 69,
     "metadata": {},
     "output_type": "execute_result"
    }
   ],
   "source": [
    "data.describe().T"
   ]
  },
  {
   "cell_type": "code",
   "execution_count": 70,
   "metadata": {},
   "outputs": [
    {
     "data": {
      "text/plain": [
       "(array([  25.,    0.,  183.,    0., 1858.,    0., 2445.,    0.,  931.,\n",
       "         158.]),\n",
       " array([1. , 1.5, 2. , 2.5, 3. , 3.5, 4. , 4.5, 5. , 5.5, 6. ]),\n",
       " <a list of 10 Patch objects>)"
      ]
     },
     "execution_count": 70,
     "metadata": {},
     "output_type": "execute_result"
    },
    {
     "data": {
      "image/png": "[encoded data removed]",
      "text/plain": [
       "<Figure size 432x288 with 1 Axes>"
      ]
     },
     "metadata": {
      "needs_background": "light"
     },
     "output_type": "display_data"
    }
   ],
   "source": [
    "y=data.iloc[:,1]\n",
    "X=data.iloc[:,2:18]\n",
    "plt.hist(y)"
   ]
  },
  {
   "cell_type": "code",
   "execution_count": 72,
   "metadata": {},
   "outputs": [
    {
     "data": {
      "text/plain": [
       "<matplotlib.axes._subplots.AxesSubplot at 0x19c4b41ada0>"
      ]
     },
     "execution_count": 72,
     "metadata": {},
     "output_type": "execute_result"
    },
    {
     "data": {
      "image/png": "[encoded data removed]",
      "text/plain": [
       "<Figure size 432x288 with 1 Axes>"
      ]
     },
     "metadata": {
      "needs_background": "light"
     },
     "output_type": "display_data"
    }
   ],
   "source": [
    "#Для большей точности обучения модели необходимо проверить выборку на выбросы.При наличии выбросов- заменить текущие значения на средние значения по столбцу.\n",
    "sns.boxplot(x=X['Alcohol'])\n",
    "#Из графика можно увидеть, что выбросы находятся в промежутке Alcohol > 10. Заменим значения.\n",
    "X[X['Alcohol']>10]=X['Alcohol'].mean()\n",
    "sns.boxplot(x=X['Alcohol'])\n"
   ]
  },
  {
   "cell_type": "code",
   "execution_count": 77,
   "metadata": {},
   "outputs": [
    {
     "data": {
      "image/png": "[encoded data removed]",
      "text/plain": [
       "<Figure size 432x288 with 1 Axes>"
      ]
     },
     "metadata": {
      "needs_background": "light"
     },
     "output_type": "display_data"
    }
   ],
   "source": [
    "#Аналогичные действия сделаем для остальных столбцов\n",
    "sns.boxplot(x=X['Density'])\n",
    "X[X['Density']>1.05]=X['Density'].mean()\n"
   ]
  },
  {
   "cell_type": "code",
   "execution_count": 79,
   "metadata": {},
   "outputs": [
    {
     "data": {
      "image/png": "[encoded data removed]",
      "text/plain": [
       "<Figure size 432x288 with 1 Axes>"
      ]
     },
     "metadata": {
      "needs_background": "light"
     },
     "output_type": "display_data"
    }
   ],
   "source": [
    "sns.boxplot(x=X['Nitrogen'])\n",
    "X[X['Nitrogen']>22]=X['Nitrogen'].mean()"
   ]
  },
  {
   "cell_type": "code",
   "execution_count": 81,
   "metadata": {},
   "outputs": [
    {
     "data": {
      "image/png": "[encoded data removed]",
      "text/plain": [
       "<Figure size 432x288 with 1 Axes>"
      ]
     },
     "metadata": {
      "needs_background": "light"
     },
     "output_type": "display_data"
    }
   ],
   "source": [
    "sns.boxplot(x=X['pH'])\n",
    "X[X['pH']>4.2]=X['pH'].mean()\n",
    "X[X['pH']<2]=X['pH'].mean()"
   ]
  },
  {
   "cell_type": "code",
   "execution_count": 83,
   "metadata": {},
   "outputs": [
    {
     "data": {
      "image/png": "[encoded data removed]",
      "text/plain": [
       "<Figure size 432x288 with 1 Axes>"
      ]
     },
     "metadata": {
      "needs_background": "light"
     },
     "output_type": "display_data"
    }
   ],
   "source": [
    "sns.boxplot(x=X['Sugar'])\n",
    "X[X['Sugar']>20]=X['Sugar'].mean()"
   ]
  },
  {
   "cell_type": "code",
   "execution_count": 86,
   "metadata": {},
   "outputs": [
    {
     "data": {
      "image/png": "[encoded data removed]",
      "text/plain": [
       "<Figure size 432x288 with 1 Axes>"
      ]
     },
     "metadata": {
      "needs_background": "light"
     },
     "output_type": "display_data"
    }
   ],
   "source": [
    "sns.boxplot(x=X['A'])\n",
    "X[X['A']>37]=X['A'].mean()\n",
    "X[X['A']<15]=X['A'].mean()"
   ]
  },
  {
   "cell_type": "code",
   "execution_count": 88,
   "metadata": {},
   "outputs": [
    {
     "data": {
      "image/png": "[encoded data removed]",
      "text/plain": [
       "<Figure size 432x288 with 1 Axes>"
      ]
     },
     "metadata": {
      "needs_background": "light"
     },
     "output_type": "display_data"
    }
   ],
   "source": [
    "sns.boxplot(x=X['B'])\n",
    "X[X['B']>13]=X['B'].mean()"
   ]
  },
  {
   "cell_type": "code",
   "execution_count": 90,
   "metadata": {},
   "outputs": [
    {
     "data": {
      "image/png": "[encoded data removed]",
      "text/plain": [
       "<Figure size 432x288 with 1 Axes>"
      ]
     },
     "metadata": {
      "needs_background": "light"
     },
     "output_type": "display_data"
    }
   ],
   "source": [
    "sns.boxplot(x=X['C'])\n",
    "X[X['C']>12]=X['C'].mean()"
   ]
  },
  {
   "cell_type": "code",
   "execution_count": 93,
   "metadata": {},
   "outputs": [
    {
     "data": {
      "image/png": "[encoded data removed]",
      "text/plain": [
       "<Figure size 432x288 with 1 Axes>"
      ]
     },
     "metadata": {
      "needs_background": "light"
     },
     "output_type": "display_data"
    }
   ],
   "source": [
    "sns.boxplot(x=X['Di'])\n",
    "X[X['Di']>150]=X['Di'].mean()"
   ]
  },
  {
   "cell_type": "code",
   "execution_count": 95,
   "metadata": {},
   "outputs": [
    {
     "data": {
      "image/png": "[encoded data removed]",
      "text/plain": [
       "<Figure size 432x288 with 1 Axes>"
      ]
     },
     "metadata": {
      "needs_background": "light"
     },
     "output_type": "display_data"
    }
   ],
   "source": [
    "sns.boxplot(x=X['E'])\n",
    "X[X['E']>3]=X['E'].mean()"
   ]
  },
  {
   "cell_type": "code",
   "execution_count": 98,
   "metadata": {},
   "outputs": [
    {
     "data": {
      "image/png": "[encoded data removed]",
      "text/plain": [
       "<Figure size 432x288 with 1 Axes>"
      ]
     },
     "metadata": {
      "needs_background": "light"
     },
     "output_type": "display_data"
    }
   ],
   "source": [
    "sns.boxplot(x=X['H'])\n",
    "X[X['H']>25]=X['H'].mean()"
   ]
  },
  {
   "cell_type": "code",
   "execution_count": 100,
   "metadata": {},
   "outputs": [
    {
     "data": {
      "image/png": "[encoded data removed]",
      "text/plain": [
       "<Figure size 432x288 with 1 Axes>"
      ]
     },
     "metadata": {
      "needs_background": "light"
     },
     "output_type": "display_data"
    }
   ],
   "source": [
    "sns.boxplot(x=X['S'])\n",
    "X[X['S']>15]=X['S'].mean()"
   ]
  },
  {
   "cell_type": "code",
   "execution_count": 102,
   "metadata": {},
   "outputs": [
    {
     "data": {
      "image/png": "[encoded data removed]",
      "text/plain": [
       "<Figure size 432x288 with 1 Axes>"
      ]
     },
     "metadata": {
      "needs_background": "light"
     },
     "output_type": "display_data"
    }
   ],
   "source": [
    "sns.boxplot(x=X['U'])\n",
    "X[X['U']>12.5]=X['U'].mean()"
   ]
  },
  {
   "cell_type": "code",
   "execution_count": 104,
   "metadata": {},
   "outputs": [
    {
     "data": {
      "image/png": "[encoded data removed]",
      "text/plain": [
       "<Figure size 432x288 with 1 Axes>"
      ]
     },
     "metadata": {
      "needs_background": "light"
     },
     "output_type": "display_data"
    }
   ],
   "source": [
    "sns.boxplot(x=X['V'])\n",
    "X[X['V']>1]=X['V'].mean()"
   ]
  },
  {
   "cell_type": "code",
   "execution_count": 105,
   "metadata": {
    "scrolled": true
   },
   "outputs": [
    {
     "data": {
      "text/plain": [
       "<matplotlib.axes._subplots.AxesSubplot at 0x19c55ca2c50>"
      ]
     },
     "execution_count": 105,
     "metadata": {},
     "output_type": "execute_result"
    },
    {
     "data": {
      "image/png": "[encoded data removed]",
      "text/plain": [
       "<Figure size 432x288 with 1 Axes>"
      ]
     },
     "metadata": {
      "needs_background": "light"
     },
     "output_type": "display_data"
    }
   ],
   "source": [
    "y.hist(bins=5)\n",
    "#Из данного графика можно увидеть, что классы несбалансированы, то есть 1 и 2 классу соответствует гордаздо меньше наблюдений, чем остальным классам.\n",
    "#Одним из решений данной проблемы явялется сэмплинг данных (то есть генерация искусственных наблюдений). Для этого воспользуемся алгоритом SMOTE."
   ]
  },
  {
   "cell_type": "code",
   "execution_count": 22,
   "metadata": {
    "scrolled": true
   },
   "outputs": [
    {
     "data": {
      "image/png": "[encoded data removed]",
      "text/plain": [
       "<Figure size 432x288 with 1 Axes>"
      ]
     },
     "metadata": {
      "needs_background": "light"
     },
     "output_type": "display_data"
    }
   ],
   "source": [
    "smt = SMOTE()\n",
    "X, y = smt.fit_sample(X, y)\n",
    "plt.hist(y)\n",
    "#По данной диаграмме можно увидеть, что классы стали сбалансированы, что дает возмонжость более точно обучаться модели.\n",
    "#Последним этапом обработки данных является нормализация данных. Исследуя данные, можно заметить, что значения разных столбцов имеют разные порядки. Это проблема может плохо отобразиться на обучении, а в дальнейшем на точности классификации.\n",
    "scaler = StandardScaler()\n",
    "X = scaler.fit_transform(X)"
   ]
  },
  {
   "cell_type": "code",
   "execution_count": 23,
   "metadata": {},
   "outputs": [
    {
     "name": "stdout",
     "output_type": "stream",
     "text": [
      "[0.83605442 0.85170068 0.83537415 0.82789116 0.85510204 0.86270492\n",
      " 0.86612022 0.87704918 0.87431694 0.87704918]\n"
     ]
    }
   ],
   "source": [
    "#Первой моделью классифкации была выбран RandomForestClassifier. Этот алгоритм явялется самым мощным, по сравнению со всеми остальными. Так же он хорошо справялется с большим количеством свойств и классов.\n",
    "#Для проверки точности классификации был выбран метод кросс-валидации. Полученная средняя точность показывает, насколько хорошо классифицирует обученная модель.\n",
    "from sklearn.ensemble import RandomForestClassifier\n",
    "from sklearn.model_selection import cross_val_score\n",
    "classifier = RandomForestClassifier(n_estimators=300,random_state=0, n_jobs=-1)\n",
    "all_accuracies = cross_val_score(estimator=classifier, X=X, y=y, cv=10)\n",
    "print(all_accuracies)\n",
    "#Можно заметить, что точность классификации достаточно высока, однако для того, чтобы найти максимальную точность классифкации данной модели- небоходимо настроить ее параметры."
   ]
  },
  {
   "cell_type": "code",
   "execution_count": 40,
   "metadata": {
    "scrolled": false
   },
   "outputs": [
    {
     "name": "stdout",
     "output_type": "stream",
     "text": [
      "{'criterion': 'gini', 'max_features': 'sqrt', 'n_estimators': 300}\n",
      "RandomForestClassifier(bootstrap=True, class_weight=None, criterion='gini',\n",
      "                       max_depth=None, max_features='sqrt', max_leaf_nodes=None,\n",
      "                       min_impurity_decrease=0.0, min_impurity_split=None,\n",
      "                       min_samples_leaf=1, min_samples_split=2,\n",
      "                       min_weight_fraction_leaf=0.0, n_estimators=300,\n",
      "                       n_jobs=None, oob_score=False, random_state=None,\n",
      "                       verbose=0, warm_start=False)\n",
      "0.8595773687798227\n"
     ]
    }
   ],
   "source": [
    "from sklearn.model_selection import GridSearchCV\n",
    "rfc=RandomForestClassifier()\n",
    "param_grid = {'n_estimators': [300], 'max_features': ['auto', 'sqrt', 'log2'],'criterion' :['gini', 'entropy']}\n",
    "best_rfc = GridSearchCV(rfc, param_grid, cv=10, scoring='accuracy', n_jobs=-1)\n",
    "best_rfc.fit(X, y)\n",
    "print (best_rfc.best_params_)\n",
    "print (best_rfc.best_estimator_)\n",
    "print (best_rfc.best_score_)"
   ]
  },
  {
   "cell_type": "code",
   "execution_count": 31,
   "metadata": {},
   "outputs": [
    {
     "name": "stdout",
     "output_type": "stream",
     "text": [
      "[0.73265306 0.70884354 0.72176871 0.71496599 0.72857143 0.71516393\n",
      " 0.7568306  0.75136612 0.77937158 0.76092896]\n"
     ]
    }
   ],
   "source": [
    "#На практике было исследовано, что наиболее точным классифкатором после RandomForest стал KNN. Учитывая то, что алгоритм KNN считается наиболее простым алгоритмом классификации- точность прогнозрования обученной модели достаточно высока.\n",
    "from sklearn.neighbors import KNeighborsClassifier\n",
    "knn= KNeighborsClassifier(n_neighbors=5)\n",
    "all_accuracies = cross_val_score(knn, X, y, cv=10, scoring='accuracy', n_jobs=-1)\n",
    "print(all_accuracies)\n",
    "#Необходимо подобрать самые оптимальные параметры для данного классификатора."
   ]
  },
  {
   "cell_type": "code",
   "execution_count": 33,
   "metadata": {},
   "outputs": [
    {
     "name": "stdout",
     "output_type": "stream",
     "text": [
      "{'n_neighbors': 2, 'weights': 'distance'}\n",
      "KNeighborsClassifier(algorithm='auto', leaf_size=30, metric='minkowski',\n",
      "                     metric_params=None, n_jobs=None, n_neighbors=2, p=2,\n",
      "                     weights='distance')\n",
      "0.8107021131561009\n"
     ]
    }
   ],
   "source": [
    "param_grid = {'n_neighbors' : list(range(1,31)), 'weights': ['uniform', 'distance']}\n",
    "knn = KNeighborsClassifier()\n",
    "best_knn = GridSearchCV(knn, param_grid, cv = 10, scoring = 'accuracy', n_jobs=-1)\n",
    "best_knn.fit(X,y)\n",
    "print (best_knn.best_params_)\n",
    "print (best_knn.best_estimator_)\n",
    "print (best_knn.best_score_)\n",
    "#Полученная точность классификаци оказалась достаточно высока, однако все равно она меньше, чем точность классификации модели Random Forest. \n",
    "#Поэтому расклассифицируем тестовую выборку с помощью Random Forest Classifier."
   ]
  },
  {
   "cell_type": "code",
   "execution_count": 61,
   "metadata": {},
   "outputs": [],
   "source": [
    "X_test= test.values[::, 1:17]\n",
    "result= pd.DataFrame({'Index': test['Index'].ravel()})\n",
    "rfc=RandomForestClassifier(bootstrap=True, class_weight=None, criterion='gini',\n",
    "                       max_depth=None, max_features='sqrt', max_leaf_nodes=None,\n",
    "                       min_impurity_decrease=0.0, min_impurity_split=None,\n",
    "                       min_samples_leaf=1, min_samples_split=2,\n",
    "                       min_weight_fraction_leaf=0.0, n_estimators=300,\n",
    "                       n_jobs=None, oob_score=False, random_state=None,\n",
    "                       verbose=0, warm_start=False)\n",
    "rfc.fit(X,y)\n",
    "result['Target'] = rfc.predict(X_test)\n",
    "result.to_csv('C:/Users/danil/Downloads/Sample_submission.csv', sep='\\t')\n",
    "#Вывод\n",
    "#В ходе выполнения данного тестового задания был произведен анализ, обработка и классификация исходных данных. \n",
    "#В ходе исследования, было обнаружено, что исходная выборка содержит пропущенные, категорильные значения, а также выбросы. \n",
    "#Для более точного обучения пропущенные значения и выбросы были заменены на средние значения по каждому столбцу, категориальные значения- на соотвествующие порядковые номера. \n",
    "#Стоит отметить, что не все выбросы были заменены, а только те, которые имеют наибольшее отклонение от нормальной величины так как это могло привести к потере информативности признака.\n",
    "#После исследовательской работы со свойствам- была проделана работа с целевой функцией. Классы, определяющие целевую функцию, оказались несбалансированы и это могло значительно понизить точность классфкации.\n",
    "#Для решения данной проблемы был использован сэмплинг данных (а именно алгоритм SMOTE), который преобразовал данные в сбалансированный вид. \n",
    "#Последним этапом обработки данных стало нормирование данных, это также существенно повлияло на точность классифкации данных. \n",
    "#Для оценки точности данных был выбран метод кросс-валидации и метрика accuracy. Исходя из результатов точности был найдены два самых точных алгоритма: Random Forest и KNN.\n",
    "#После оптимизации параметров для алгоритма KNN была найдена наивысшая точность классифкации, однако в связи с органиченными возможностями ноутбука самые оптимальные параметры для метода Random Forest были получены только для части параметров. "
   ]
  }
 ],
 "metadata": {
  "kernelspec": {
   "display_name": "Python 3",
   "language": "python",
   "name": "python3"
  }
 },
 "nbformat": 4,
 "nbformat_minor": 2
}
